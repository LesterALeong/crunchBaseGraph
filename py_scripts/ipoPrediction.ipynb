{
 "nbformat": 4,
 "nbformat_minor": 2,
 "metadata": {
  "language_info": {
   "name": "python",
   "codemirror_mode": {
    "name": "ipython",
    "version": 3
   },
   "version": "3.6.5-final"
  },
  "orig_nbformat": 2,
  "file_extension": ".py",
  "mimetype": "text/x-python",
  "name": "python",
  "npconvert_exporter": "python",
  "pygments_lexer": "ipython3",
  "version": 3,
  "kernelspec": {
   "name": "11d5b3b6-68fe-4e3b-ba1d-981960a8362e",
   "display_name": "'Python Interactive'"
  }
 },
 "cells": [
  {
   "cell_type": "code",
   "execution_count": 1,
   "metadata": {},
   "outputs": [],
   "source": [
    "import pyTigerGraph as tg \n",
    "import cfg\n",
    "import random\n",
    "\n",
    "import torch\n",
    "import torch.nn as nn\n",
    "import torch.nn.functional as F\n",
    "import pyTigerGraph as tg\n",
    "import dgl\n",
    "import networkx as nx\n",
    "from heapq import nlargest, nsmallest\n",
    "\n",
    "from gcn import GCN"
   ]
  },
  {
   "cell_type": "code",
   "execution_count": 2,
   "metadata": {},
   "outputs": [],
   "source": [
    "conn = tg.TigerGraphConnection(ipAddress=\"https://crunchml.i.tgcloud.io\", graphname=\"CrunchBasePre_2013\", password=cfg.password, apiToken=cfg.token)"
   ]
  },
  {
   "cell_type": "code",
   "execution_count": 3,
   "metadata": {},
   "outputs": [
    {
     "name": "stdout",
     "output_type": "stream",
     "text": "[{'src': 'footballunited', 'dest': 'phuser'}, {'src': 'morningpapers', 'dest': 'phuser'}, {'src': 'phuser', 'dest': 'footballunited'}]\n"
    }
   ],
   "source": [
    "results = conn.runInstalledQuery(\"companyLinks\", {}, sizeLimit=300000000)[\"results\"][0][\"@@tupleRecords\"]\n",
    "print(results[:3])\n",
    "sample = random.choices(results, k=5000)\n"
   ]
  },
  {
   "cell_type": "code",
   "execution_count": 4,
   "metadata": {},
   "outputs": [
    {
     "name": "stdout",
     "output_type": "stream",
     "text": "[(0, 1), (2, 3), (4, 5), (6, 7), (8, 9)]\n"
    }
   ],
   "source": [
    "compToNum = {} # translation dictionary for company name to number (for dgl)\n",
    "numToComp = {} # translation dictionary for number to company name\n",
    "i = 0\n",
    "def createEdgeList(result): # returns tuple of number version of edge\n",
    "    global i\n",
    "    if result[\"src\"] in compToNum:\n",
    "        fromKey = compToNum[result[\"src\"]]\n",
    "    else:\n",
    "        compToNum[result[\"src\"]] = i\n",
    "        numToComp[i] = result[\"src\"]\n",
    "        fromKey = i\n",
    "        i+=1\n",
    "    if result[\"dest\"] in compToNum:\n",
    "        toKey = compToNum[result[\"dest\"]]\n",
    "    else:\n",
    "        compToNum[result[\"dest\"]] = i\n",
    "        numToComp[i] = result[\"dest\"]\n",
    "        toKey = i\n",
    "        i+=1\n",
    "    return (fromKey, toKey)\n",
    "\n",
    "edges = [createEdgeList(thing) for thing in sample]\n",
    "print(edges[:5])"
   ]
  },
  {
   "cell_type": "code",
   "execution_count": 15,
   "metadata": {},
   "outputs": [],
   "source": [
    "numEpochs = 100\n",
    "learningRate = 0.01"
   ]
  },
  {
   "cell_type": "code",
   "execution_count": 5,
   "metadata": {},
   "outputs": [],
   "source": [
    "g = nx.Graph()\n",
    "g.add_edges_from(edges)\n",
    "\n",
    "\n",
    "G = dgl.DGLGraph(g)"
   ]
  },
  {
   "cell_type": "code",
   "execution_count": 6,
   "metadata": {},
   "outputs": [
    {
     "name": "stdout",
     "output_type": "stream",
     "text": "tensor([[0., 0., 1.,  ..., 0., 0., 0.]])\n"
    }
   ],
   "source": [
    "G.ndata[\"feat\"] = torch.eye(G.number_of_nodes())\n",
    "\n",
    "print(G.nodes[2].data['feat'])\n"
   ]
  },
  {
   "cell_type": "code",
   "execution_count": 8,
   "metadata": {},
   "outputs": [
    {
     "name": "stdout",
     "output_type": "stream",
     "text": "False\nFalse\nFalse\nFalse\nFalse\nFalse\nFalse\nFalse\nFalse\nFalse\nFalse\nFalse\nFalse\nFalse\nFalse\nFalse\nFalse\nFalse\nFalse\nFalse\nFalse\nFalse\nFalse\nFalse\nFalse\nFalse\nFalse\nFalse\nFalse\nFalse\nFalse\nFalse\nFalse\nFalse\nFalse\nFalse\nFalse\nFalse\nFalse\nFalse\nFalse\nFalse\nFalse\nFalse\nFalse\nFalse\nFalse\nFalse\nFalse\nFalse\nFalse\nFalse\nFalse\nFalse\nFalse\nFalse\nFalse\nFalse\nFalse\nFalse\nFalse\nFalse\nFalse\nTrue\n"
    }
   ],
   "source": [
    "compIPO = 0\n",
    "compNonIPO = 0\n",
    "i = 0\n",
    "while((not(compIPO) or not(compNonIPO)) and (i<G.number_of_nodes())):\n",
    "    result = conn.runInstalledQuery(\"checkIPO\", {\"norm_name\":numToComp[i]})[\"results\"][0][\"result\"]\n",
    "    if result == True:\n",
    "        compIPO = i\n",
    "    else:\n",
    "        compNonIPO = i\n",
    "    i += 1"
   ]
  },
  {
   "cell_type": "code",
   "execution_count": 11,
   "metadata": {},
   "outputs": [],
   "source": [
    "net = GCN(G.number_of_nodes(), 20, 2) #Two layer GCN\n",
    "inputs = G.ndata[\"feat\"]\n",
    "labeled_nodes = torch.tensor([compNonIPO, compIPO])  # only the liked movies and the disliked movies are labelled\n",
    "labels = torch.tensor([0, 1])  # their labels are different\n",
    "optimizer = torch.optim.Adam(net.parameters(), lr=learningRate)"
   ]
  },
  {
   "cell_type": "code",
   "execution_count": 16,
   "metadata": {},
   "outputs": [
    {
     "name": "stdout",
     "output_type": "stream",
     "text": "Epoch 0 | Loss: 1.827e-01\nEpoch 1 | Loss: 1.632e-01\nEpoch 2 | Loss: 1.453e-01\nEpoch 3 | Loss: 1.289e-01\nEpoch 4 | Loss: 1.141e-01\nEpoch 5 | Loss: 1.009e-01\nEpoch 6 | Loss: 8.925e-02\nEpoch 7 | Loss: 7.887e-02\nEpoch 8 | Loss: 6.967e-02\nEpoch 9 | Loss: 6.160e-02\nEpoch 10 | Loss: 5.461e-02\nEpoch 11 | Loss: 4.848e-02\nEpoch 12 | Loss: 4.311e-02\nEpoch 13 | Loss: 3.842e-02\nEpoch 14 | Loss: 3.437e-02\nEpoch 15 | Loss: 3.085e-02\nEpoch 16 | Loss: 2.776e-02\nEpoch 17 | Loss: 2.506e-02\nEpoch 18 | Loss: 2.271e-02\nEpoch 19 | Loss: 2.067e-02\nEpoch 20 | Loss: 1.888e-02\nEpoch 21 | Loss: 1.730e-02\nEpoch 22 | Loss: 1.591e-02\nEpoch 23 | Loss: 1.468e-02\nEpoch 24 | Loss: 1.360e-02\nEpoch 25 | Loss: 1.264e-02\nEpoch 26 | Loss: 1.179e-02\nEpoch 27 | Loss: 1.104e-02\nEpoch 28 | Loss: 1.036e-02\nEpoch 29 | Loss: 9.747e-03\nEpoch 30 | Loss: 9.200e-03\nEpoch 31 | Loss: 8.710e-03\nEpoch 32 | Loss: 8.266e-03\nEpoch 33 | Loss: 7.864e-03\nEpoch 34 | Loss: 7.496e-03\nEpoch 35 | Loss: 7.161e-03\nEpoch 36 | Loss: 6.856e-03\nEpoch 37 | Loss: 6.577e-03\nEpoch 38 | Loss: 6.322e-03\nEpoch 39 | Loss: 6.086e-03\nEpoch 40 | Loss: 5.870e-03\nEpoch 41 | Loss: 5.670e-03\nEpoch 42 | Loss: 5.484e-03\nEpoch 43 | Loss: 5.308e-03\nEpoch 44 | Loss: 5.146e-03\nEpoch 45 | Loss: 4.996e-03\nEpoch 46 | Loss: 4.856e-03\nEpoch 47 | Loss: 4.725e-03\nEpoch 48 | Loss: 4.603e-03\nEpoch 49 | Loss: 4.487e-03\nEpoch 50 | Loss: 4.377e-03\nEpoch 51 | Loss: 4.273e-03\nEpoch 52 | Loss: 4.175e-03\nEpoch 53 | Loss: 4.082e-03\nEpoch 54 | Loss: 3.995e-03\nEpoch 55 | Loss: 3.911e-03\nEpoch 56 | Loss: 3.832e-03\nEpoch 57 | Loss: 3.756e-03\nEpoch 58 | Loss: 3.683e-03\nEpoch 59 | Loss: 3.613e-03\nEpoch 60 | Loss: 3.547e-03\nEpoch 61 | Loss: 3.483e-03\nEpoch 62 | Loss: 3.421e-03\nEpoch 63 | Loss: 3.362e-03\nEpoch 64 | Loss: 3.305e-03\nEpoch 65 | Loss: 3.250e-03\nEpoch 66 | Loss: 3.197e-03\nEpoch 67 | Loss: 3.146e-03\nEpoch 68 | Loss: 3.096e-03\nEpoch 69 | Loss: 3.047e-03\nEpoch 70 | Loss: 3.001e-03\nEpoch 71 | Loss: 2.956e-03\nEpoch 72 | Loss: 2.912e-03\nEpoch 73 | Loss: 2.870e-03\nEpoch 74 | Loss: 2.828e-03\nEpoch 75 | Loss: 2.788e-03\nEpoch 76 | Loss: 2.748e-03\nEpoch 77 | Loss: 2.710e-03\nEpoch 78 | Loss: 2.673e-03\nEpoch 79 | Loss: 2.637e-03\nEpoch 80 | Loss: 2.601e-03\nEpoch 81 | Loss: 2.566e-03\nEpoch 82 | Loss: 2.532e-03\nEpoch 83 | Loss: 2.499e-03\nEpoch 84 | Loss: 2.467e-03\nEpoch 85 | Loss: 2.436e-03\nEpoch 86 | Loss: 2.405e-03\nEpoch 87 | Loss: 2.374e-03\nEpoch 88 | Loss: 2.344e-03\nEpoch 89 | Loss: 2.316e-03\nEpoch 90 | Loss: 2.287e-03\nEpoch 91 | Loss: 2.259e-03\nEpoch 92 | Loss: 2.232e-03\nEpoch 93 | Loss: 2.206e-03\nEpoch 94 | Loss: 2.179e-03\nEpoch 95 | Loss: 2.154e-03\nEpoch 96 | Loss: 2.129e-03\nEpoch 97 | Loss: 2.104e-03\nEpoch 98 | Loss: 2.079e-03\nEpoch 99 | Loss: 2.056e-03\n"
    }
   ],
   "source": [
    "all_logits = []\n",
    "for epoch in range(numEpochs):\n",
    "    logits = net(G, inputs)\n",
    "    # we save the logits for visualization later\n",
    "    all_logits.append(logits.detach())\n",
    "    logp = F.log_softmax(logits, 1)\n",
    "    # we only compute loss for labeled nodes\n",
    "    loss = F.nll_loss(logp[labeled_nodes], labels)\n",
    "    optimizer.zero_grad()\n",
    "    loss.backward()\n",
    "    optimizer.step()\n",
    "\n",
    "    print('Epoch %d | Loss: %6.3e' % (epoch, loss.item()))"
   ]
  },
  {
   "cell_type": "code",
   "execution_count": 24,
   "metadata": {},
   "outputs": [
    {
     "name": "stdout",
     "output_type": "stream",
     "text": "888\nTrue IPO:  17\nFalse IPO:  871\n3939\nTrue Non-IPO:  43\nFalse Non-IPO:  3896\n"
    }
   ],
   "source": [
    "predictions = list(all_logits[numEpochs-1])\n",
    "predictIPO = []\n",
    "predictNonIPO = []\n",
    "\n",
    "a=0\n",
    "for company in predictions:\n",
    "    if company[1] >= company[0]:\n",
    "        predictIPO.append(numToComp[a])\n",
    "    else:\n",
    "        predictNonIPO.append(numToComp[a])\n",
    "    a += 1\n",
    "\n",
    "trueIPO = 0\n",
    "falseIPO = 0\n",
    "trueNonIPO = 0\n",
    "falseNonIPO = 0\n",
    "\n",
    "\n",
    "print(len(predictIPO))\n",
    "for prediction in predictIPO:\n",
    "    result = conn.runInstalledQuery(\"checkIPO\", {\"norm_name\":prediction})[\"results\"][0][\"result\"]\n",
    "    if result == True:\n",
    "        trueIPO += 1\n",
    "    else:\n",
    "        falseIPO += 1\n",
    "\n",
    "print(\"True IPO: \", trueIPO)\n",
    "print(\"False IPO: \", falseIPO)\n",
    "\n",
    "print(len(predictNonIPO))\n",
    "for prediction in predictNonIPO:\n",
    "    result = conn.runInstalledQuery(\"checkIPO\", {\"norm_name\":prediction})[\"results\"][0][\"result\"]\n",
    "    if result == False:\n",
    "        trueNonIPO += 1\n",
    "    else:\n",
    "        falseNonIPO += 1\n",
    "print(\"True Non-IPO: \", trueNonIPO)\n",
    "print(\"False Non-IPO: \", falseNonIPO)"
   ]
  },
  {
   "cell_type": "code",
   "execution_count": 28,
   "metadata": {},
   "outputs": [
    {
     "name": "stdout",
     "output_type": "stream",
     "text": "0.8106484358814999\n"
    }
   ],
   "source": [
    "accuracy = (trueNonIPO+trueIPO)/(len(predictions))\n",
    "print(accuracy)"
   ]
  }
 ]
}
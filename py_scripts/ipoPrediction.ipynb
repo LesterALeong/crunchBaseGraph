{
 "cells": [
  {
   "cell_type": "code",
   "execution_count": 1,
   "metadata": {},
   "outputs": [],
   "source": [
    "import pyTigerGraph as tg \n",
    "import cfg\n",
    "import random\n",
    "\n",
    "import torch\n",
    "import torch.nn as nn\n",
    "import torch.nn.functional as F\n",
    "import pyTigerGraph as tg\n",
    "import dgl\n",
    "import networkx as nx\n",
    "from heapq import nlargest, nsmallest\n",
    "\n",
    "from gcn import GCN"
   ]
  },
  {
   "cell_type": "code",
   "execution_count": 2,
   "metadata": {},
   "outputs": [],
   "source": [
    "conn = tg.TigerGraphConnection(ipAddress=\"https://crunchml.i.tgcloud.io\", graphname=\"CrunchBasePre_2013\", password=cfg.password, apiToken=cfg.token)"
   ]
  },
  {
   "cell_type": "code",
   "execution_count": 4,
   "metadata": {},
   "outputs": [
    {
     "output_type": "stream",
     "name": "stdout",
     "text": "{'version': {'edition': 'enterprise', 'api': 'v2', 'schema': 0}, 'error': False, 'message': '', 'results': [{'result': True}]}\n[{'src': 'FootballUnited', 'dest': 'Phuser'}, {'src': 'MorningPapers.com', 'dest': 'Phuser'}, {'src': 'Phuser', 'dest': 'FootballUnited'}]\n"
    }
   ],
   "source": [
    "print(conn.runInstalledQuery(\"helpCheckIPO\", {\"norm_name\":\"linkedin\"}))\n",
    "\n",
    "results = conn.runInstalledQuery(\"companyLinks\", {}, sizeLimit=512000000, timeout=320000)[\"results\"][0][\"@@tupleRecords\"]\n",
    "print(results[:3])\n",
    "   \n",
    "\n"
   ]
  },
  {
   "cell_type": "code",
   "execution_count": 5,
   "metadata": {},
   "outputs": [
    {
     "output_type": "stream",
     "name": "stdout",
     "text": "[(0, 1), (2, 3), (4, 5), (6, 7), (8, 9)]\n"
    }
   ],
   "source": [
    "sample = random.choices(results, k=200)\n",
    "\n",
    "compToNum = {} # translation dictionary for company name to number (for dgl)\n",
    "numToComp = {} # translation dictionary for number to company name\n",
    "i = 0\n",
    "def createEdgeList(result): # returns tuple of number version of edge\n",
    "    global i\n",
    "    if result[\"src\"] in compToNum:\n",
    "        fromKey = compToNum[result[\"src\"]]\n",
    "    else:\n",
    "        compToNum[result[\"src\"]] = i\n",
    "        numToComp[i] = result[\"src\"]\n",
    "        fromKey = i\n",
    "        i+=1\n",
    "    if result[\"dest\"] in compToNum:\n",
    "        toKey = compToNum[result[\"dest\"]]\n",
    "    else:\n",
    "        compToNum[result[\"dest\"]] = i\n",
    "        numToComp[i] = result[\"dest\"]\n",
    "        toKey = i\n",
    "        i+=1\n",
    "    return (fromKey, toKey)\n",
    "\n",
    "edges = [createEdgeList(thing) for thing in sample]\n",
    "print(edges[:5])"
   ]
  },
  {
   "cell_type": "code",
   "execution_count": 6,
   "metadata": {},
   "outputs": [],
   "source": [
    "numEpochs = 200\n",
    "learningRate = 0.01"
   ]
  },
  {
   "cell_type": "code",
   "execution_count": 7,
   "metadata": {},
   "outputs": [],
   "source": [
    "g = nx.Graph()\n",
    "g.add_edges_from(edges)\n",
    "\n",
    "\n",
    "G = dgl.DGLGraph(g)"
   ]
  },
  {
   "cell_type": "code",
   "execution_count": 8,
   "metadata": {},
   "outputs": [
    {
     "output_type": "stream",
     "name": "stdout",
     "text": "tensor([[0., 0., 1., 0., 0., 0., 0., 0., 0., 0., 0., 0., 0., 0., 0., 0., 0., 0.,\n         0., 0., 0., 0., 0., 0., 0., 0., 0., 0., 0., 0., 0., 0., 0., 0., 0., 0.,\n         0., 0., 0., 0., 0., 0., 0., 0., 0., 0., 0., 0., 0., 0., 0., 0., 0., 0.,\n         0., 0., 0., 0., 0., 0., 0., 0., 0., 0., 0., 0., 0., 0., 0., 0., 0., 0.,\n         0., 0., 0., 0., 0., 0., 0., 0., 0., 0., 0., 0., 0., 0., 0., 0., 0., 0.,\n         0., 0., 0., 0., 0., 0., 0., 0., 0., 0., 0., 0., 0., 0., 0., 0., 0., 0.,\n         0., 0., 0., 0., 0., 0., 0., 0., 0., 0., 0., 0., 0., 0., 0., 0., 0., 0.,\n         0., 0., 0., 0., 0., 0., 0., 0., 0., 0., 0., 0., 0., 0., 0., 0., 0., 0.,\n         0., 0., 0., 0., 0., 0., 0., 0., 0., 0., 0., 0., 0., 0., 0., 0., 0., 0.,\n         0., 0., 0., 0., 0., 0., 0., 0., 0., 0., 0., 0., 0., 0., 0., 0., 0., 0.,\n         0., 0., 0., 0., 0., 0., 0., 0., 0., 0., 0., 0., 0., 0., 0., 0., 0., 0.,\n         0., 0., 0., 0., 0., 0., 0., 0., 0., 0., 0., 0., 0., 0., 0., 0., 0., 0.,\n         0., 0., 0., 0., 0., 0., 0., 0., 0., 0., 0., 0., 0., 0., 0., 0., 0., 0.,\n         0., 0., 0., 0., 0., 0., 0., 0., 0., 0., 0., 0., 0., 0., 0., 0., 0., 0.,\n         0., 0., 0., 0., 0., 0., 0., 0., 0., 0., 0., 0., 0., 0., 0., 0., 0., 0.,\n         0., 0., 0., 0., 0., 0., 0., 0., 0., 0., 0., 0., 0., 0., 0., 0., 0., 0.,\n         0., 0., 0., 0., 0., 0., 0., 0., 0., 0., 0., 0., 0., 0., 0., 0., 0., 0.,\n         0., 0., 0., 0., 0., 0., 0., 0., 0., 0., 0., 0., 0., 0., 0., 0., 0., 0.,\n         0., 0., 0., 0., 0., 0., 0., 0., 0., 0., 0., 0., 0., 0., 0., 0., 0., 0.,\n         0., 0., 0., 0., 0., 0., 0., 0., 0., 0., 0., 0., 0., 0., 0., 0., 0., 0.,\n         0., 0., 0., 0., 0., 0., 0., 0., 0., 0., 0., 0., 0., 0., 0., 0., 0., 0.,\n         0., 0., 0., 0., 0., 0., 0., 0., 0., 0., 0., 0., 0., 0., 0., 0., 0.]])\n"
    }
   ],
   "source": [
    "G.ndata[\"feat\"] = torch.eye(G.number_of_nodes())\n",
    "\n",
    "print(G.nodes[2].data['feat'])\n",
    ""
   ]
  },
  {
   "cell_type": "code",
   "execution_count": 9,
   "metadata": {},
   "outputs": [],
   "source": [
    "compIPO = 0\n",
    "compNonIPO = 0\n",
    "i = 0\n",
    "while((not(compIPO) or not(compNonIPO)) and (i<G.number_of_nodes())):\n",
    "    result = conn.runInstalledQuery(\"checkIPO\", {\"norm_name\":numToComp[i]})[\"results\"][0][\"result\"]\n",
    "    if result == True:\n",
    "        compIPO = i\n",
    "    else:\n",
    "        compNonIPO = i\n",
    "    i += 1"
   ]
  },
  {
   "cell_type": "code",
   "execution_count": 10,
   "metadata": {},
   "outputs": [],
   "source": [
    "net = GCN(G.number_of_nodes(), 16, 2) #Two layer GCN\n",
    "inputs = G.ndata[\"feat\"]\n",
    "labeled_nodes = torch.tensor([compNonIPO, compIPO])  # only the liked movies and the disliked movies are labelled\n",
    "labels = torch.tensor([0, 1])  # their labels are different\n",
    "optimizer = torch.optim.Adam(net.parameters(), lr=learningRate)"
   ]
  },
  {
   "cell_type": "code",
   "execution_count": 16,
   "metadata": {},
   "outputs": [
    {
     "output_type": "stream",
     "name": "stdout",
     "text": "Epoch 0 | Loss: 1.250e-04\nEpoch 1 | Loss: 1.246e-04\nEpoch 2 | Loss: 1.243e-04\nEpoch 3 | Loss: 1.239e-04\nEpoch 4 | Loss: 1.236e-04\nEpoch 5 | Loss: 1.231e-04\nEpoch 6 | Loss: 1.228e-04\nEpoch 7 | Loss: 1.225e-04\nEpoch 8 | Loss: 1.221e-04\nEpoch 9 | Loss: 1.218e-04\nEpoch 10 | Loss: 1.215e-04\nEpoch 11 | Loss: 1.210e-04\nEpoch 12 | Loss: 1.208e-04\nEpoch 13 | Loss: 1.204e-04\nEpoch 14 | Loss: 1.200e-04\nEpoch 15 | Loss: 1.197e-04\nEpoch 16 | Loss: 1.194e-04\nEpoch 17 | Loss: 1.191e-04\nEpoch 18 | Loss: 1.187e-04\nEpoch 19 | Loss: 1.184e-04\nEpoch 20 | Loss: 1.181e-04\nEpoch 21 | Loss: 1.177e-04\nEpoch 22 | Loss: 1.174e-04\nEpoch 23 | Loss: 1.171e-04\nEpoch 24 | Loss: 1.167e-04\nEpoch 25 | Loss: 1.164e-04\nEpoch 26 | Loss: 1.161e-04\nEpoch 27 | Loss: 1.157e-04\nEpoch 28 | Loss: 1.154e-04\nEpoch 29 | Loss: 1.151e-04\nEpoch 30 | Loss: 1.148e-04\nEpoch 31 | Loss: 1.145e-04\nEpoch 32 | Loss: 1.142e-04\nEpoch 33 | Loss: 1.139e-04\nEpoch 34 | Loss: 1.135e-04\nEpoch 35 | Loss: 1.132e-04\nEpoch 36 | Loss: 1.129e-04\nEpoch 37 | Loss: 1.126e-04\nEpoch 38 | Loss: 1.123e-04\nEpoch 39 | Loss: 1.120e-04\nEpoch 40 | Loss: 1.117e-04\nEpoch 41 | Loss: 1.114e-04\nEpoch 42 | Loss: 1.111e-04\nEpoch 43 | Loss: 1.108e-04\nEpoch 44 | Loss: 1.105e-04\nEpoch 45 | Loss: 1.101e-04\nEpoch 46 | Loss: 1.098e-04\nEpoch 47 | Loss: 1.095e-04\nEpoch 48 | Loss: 1.093e-04\nEpoch 49 | Loss: 1.090e-04\nEpoch 50 | Loss: 1.087e-04\nEpoch 51 | Loss: 1.084e-04\nEpoch 52 | Loss: 1.081e-04\nEpoch 53 | Loss: 1.078e-04\nEpoch 54 | Loss: 1.075e-04\nEpoch 55 | Loss: 1.072e-04\nEpoch 56 | Loss: 1.069e-04\nEpoch 57 | Loss: 1.067e-04\nEpoch 58 | Loss: 1.064e-04\nEpoch 59 | Loss: 1.061e-04\nEpoch 60 | Loss: 1.058e-04\nEpoch 61 | Loss: 1.056e-04\nEpoch 62 | Loss: 1.053e-04\nEpoch 63 | Loss: 1.050e-04\nEpoch 64 | Loss: 1.047e-04\nEpoch 65 | Loss: 1.044e-04\nEpoch 66 | Loss: 1.041e-04\nEpoch 67 | Loss: 1.039e-04\nEpoch 68 | Loss: 1.036e-04\nEpoch 69 | Loss: 1.033e-04\nEpoch 70 | Loss: 1.031e-04\nEpoch 71 | Loss: 1.028e-04\nEpoch 72 | Loss: 1.026e-04\nEpoch 73 | Loss: 1.023e-04\nEpoch 74 | Loss: 1.020e-04\nEpoch 75 | Loss: 1.017e-04\nEpoch 76 | Loss: 1.015e-04\nEpoch 77 | Loss: 1.012e-04\nEpoch 78 | Loss: 1.010e-04\nEpoch 79 | Loss: 1.007e-04\nEpoch 80 | Loss: 1.004e-04\nEpoch 81 | Loss: 1.002e-04\nEpoch 82 | Loss: 9.995e-05\nEpoch 83 | Loss: 9.965e-05\nEpoch 84 | Loss: 9.942e-05\nEpoch 85 | Loss: 9.912e-05\nEpoch 86 | Loss: 9.894e-05\nEpoch 87 | Loss: 9.864e-05\nEpoch 88 | Loss: 9.840e-05\nEpoch 89 | Loss: 9.810e-05\nEpoch 90 | Loss: 9.787e-05\nEpoch 91 | Loss: 9.769e-05\nEpoch 92 | Loss: 9.739e-05\nEpoch 93 | Loss: 9.715e-05\nEpoch 94 | Loss: 9.691e-05\nEpoch 95 | Loss: 9.661e-05\nEpoch 96 | Loss: 9.644e-05\nEpoch 97 | Loss: 9.614e-05\nEpoch 98 | Loss: 9.590e-05\nEpoch 99 | Loss: 9.572e-05\nEpoch 100 | Loss: 9.542e-05\nEpoch 101 | Loss: 9.518e-05\nEpoch 102 | Loss: 9.495e-05\nEpoch 103 | Loss: 9.477e-05\nEpoch 104 | Loss: 9.447e-05\nEpoch 105 | Loss: 9.423e-05\nEpoch 106 | Loss: 9.405e-05\nEpoch 107 | Loss: 9.375e-05\nEpoch 108 | Loss: 9.352e-05\nEpoch 109 | Loss: 9.334e-05\nEpoch 110 | Loss: 9.310e-05\nEpoch 111 | Loss: 9.286e-05\nEpoch 112 | Loss: 9.262e-05\nEpoch 113 | Loss: 9.238e-05\nEpoch 114 | Loss: 9.214e-05\nEpoch 115 | Loss: 9.197e-05\nEpoch 116 | Loss: 9.173e-05\nEpoch 117 | Loss: 9.149e-05\nEpoch 118 | Loss: 9.125e-05\nEpoch 119 | Loss: 9.101e-05\nEpoch 120 | Loss: 9.083e-05\nEpoch 121 | Loss: 9.059e-05\nEpoch 122 | Loss: 9.036e-05\nEpoch 123 | Loss: 9.012e-05\nEpoch 124 | Loss: 8.988e-05\nEpoch 125 | Loss: 8.970e-05\nEpoch 126 | Loss: 8.946e-05\nEpoch 127 | Loss: 8.928e-05\nEpoch 128 | Loss: 8.905e-05\nEpoch 129 | Loss: 8.881e-05\nEpoch 130 | Loss: 8.863e-05\nEpoch 131 | Loss: 8.839e-05\nEpoch 132 | Loss: 8.821e-05\nEpoch 133 | Loss: 8.797e-05\nEpoch 134 | Loss: 8.779e-05\nEpoch 135 | Loss: 8.756e-05\nEpoch 136 | Loss: 8.738e-05\nEpoch 137 | Loss: 8.714e-05\nEpoch 138 | Loss: 8.696e-05\nEpoch 139 | Loss: 8.672e-05\nEpoch 140 | Loss: 8.654e-05\nEpoch 141 | Loss: 8.630e-05\nEpoch 142 | Loss: 8.612e-05\nEpoch 143 | Loss: 8.589e-05\nEpoch 144 | Loss: 8.571e-05\nEpoch 145 | Loss: 8.547e-05\nEpoch 146 | Loss: 8.529e-05\nEpoch 147 | Loss: 8.511e-05\nEpoch 148 | Loss: 8.487e-05\nEpoch 149 | Loss: 8.469e-05\nEpoch 150 | Loss: 8.446e-05\nEpoch 151 | Loss: 8.428e-05\nEpoch 152 | Loss: 8.404e-05\nEpoch 153 | Loss: 8.386e-05\nEpoch 154 | Loss: 8.368e-05\nEpoch 155 | Loss: 8.350e-05\nEpoch 156 | Loss: 8.332e-05\nEpoch 157 | Loss: 8.309e-05\nEpoch 158 | Loss: 8.291e-05\nEpoch 159 | Loss: 8.273e-05\nEpoch 160 | Loss: 8.249e-05\nEpoch 161 | Loss: 8.231e-05\nEpoch 162 | Loss: 8.207e-05\nEpoch 163 | Loss: 8.195e-05\nEpoch 164 | Loss: 8.177e-05\nEpoch 165 | Loss: 8.154e-05\nEpoch 166 | Loss: 8.136e-05\nEpoch 167 | Loss: 8.118e-05\nEpoch 168 | Loss: 8.094e-05\nEpoch 169 | Loss: 8.082e-05\nEpoch 170 | Loss: 8.064e-05\nEpoch 171 | Loss: 8.040e-05\nEpoch 172 | Loss: 8.022e-05\nEpoch 173 | Loss: 8.011e-05\nEpoch 174 | Loss: 7.987e-05\nEpoch 175 | Loss: 7.969e-05\nEpoch 176 | Loss: 7.951e-05\nEpoch 177 | Loss: 7.933e-05\nEpoch 178 | Loss: 7.915e-05\nEpoch 179 | Loss: 7.897e-05\nEpoch 180 | Loss: 7.873e-05\nEpoch 181 | Loss: 7.862e-05\nEpoch 182 | Loss: 7.844e-05\nEpoch 183 | Loss: 7.826e-05\nEpoch 184 | Loss: 7.802e-05\nEpoch 185 | Loss: 7.790e-05\nEpoch 186 | Loss: 7.772e-05\nEpoch 187 | Loss: 7.748e-05\nEpoch 188 | Loss: 7.736e-05\nEpoch 189 | Loss: 7.718e-05\nEpoch 190 | Loss: 7.701e-05\nEpoch 191 | Loss: 7.683e-05\nEpoch 192 | Loss: 7.665e-05\nEpoch 193 | Loss: 7.647e-05\nEpoch 194 | Loss: 7.635e-05\nEpoch 195 | Loss: 7.611e-05\nEpoch 196 | Loss: 7.593e-05\nEpoch 197 | Loss: 7.581e-05\nEpoch 198 | Loss: 7.564e-05\nEpoch 199 | Loss: 7.546e-05\n"
    }
   ],
   "source": [
    "all_logits = []\n",
    "for epoch in range(numEpochs):\n",
    "    logits = net(G, inputs)\n",
    "    # we save the logits for visualization later\n",
    "    all_logits.append(logits.detach())\n",
    "    logp = F.log_softmax(logits, 1)\n",
    "    # we only compute loss for labeled nodes\n",
    "    loss = F.nll_loss(logp[labeled_nodes], labels)\n",
    "    optimizer.zero_grad()\n",
    "    loss.backward()\n",
    "    optimizer.step()\n",
    "\n",
    "    print('Epoch %d | Loss: %6.3e' % (epoch, loss.item()))"
   ]
  },
  {
   "cell_type": "code",
   "execution_count": 17,
   "metadata": {},
   "outputs": [
    {
     "output_type": "stream",
     "name": "stdout",
     "text": "267\nTrue IPO:  1\nFalse IPO:  266\n128\nTrue Non-IPO:  128\nFalse Non-IPO:  0\n"
    }
   ],
   "source": [
    "predictions = list(all_logits[numEpochs-1])\n",
    "predictIPO = []\n",
    "predictNonIPO = []\n",
    "\n",
    "a=0\n",
    "for company in predictions:\n",
    "    if company[1] >= company[0]:\n",
    "        predictIPO.append(numToComp[a])\n",
    "    else:\n",
    "        predictNonIPO.append(numToComp[a])\n",
    "    a += 1\n",
    "\n",
    "trueIPO = 0\n",
    "falseIPO = 0\n",
    "trueNonIPO = 0\n",
    "falseNonIPO = 0\n",
    "\n",
    "\n",
    "print(len(predictIPO))\n",
    "for prediction in predictIPO:\n",
    "    result = conn.runInstalledQuery(\"checkIPO\", {\"norm_name\":prediction})[\"results\"][0][\"result\"]\n",
    "    if result == True:\n",
    "        trueIPO += 1\n",
    "    else:\n",
    "        falseIPO += 1\n",
    "\n",
    "print(\"True IPO: \", trueIPO)\n",
    "print(\"False IPO: \", falseIPO)\n",
    "\n",
    "print(len(predictNonIPO))\n",
    "for prediction in predictNonIPO:\n",
    "    result = conn.runInstalledQuery(\"checkIPO\", {\"norm_name\":prediction})[\"results\"][0][\"result\"]\n",
    "    if result == False:\n",
    "        trueNonIPO += 1\n",
    "    else:\n",
    "        falseNonIPO += 1\n",
    "print(\"True Non-IPO: \", trueNonIPO)\n",
    "print(\"False Non-IPO: \", falseNonIPO)"
   ]
  },
  {
   "cell_type": "code",
   "execution_count": 18,
   "metadata": {},
   "outputs": [
    {
     "output_type": "stream",
     "name": "stdout",
     "text": "0.3265822784810127\n"
    }
   ],
   "source": [
    "accuracy = (trueNonIPO+trueIPO)/(len(predictions))\n",
    "print(accuracy)"
   ]
  }
 ],
 "metadata": {
  "file_extension": ".py",
  "kernelspec": {
   "display_name": "Python 3.6.9 64-bit",
   "language": "python",
   "name": "python36964bit5e4270a542e54d6788076e0986af2669"
  },
  "language_info": {
   "codemirror_mode": {
    "name": "ipython",
    "version": 3
   },
   "file_extension": ".py",
   "mimetype": "text/x-python",
   "name": "python",
   "nbconvert_exporter": "python",
   "pygments_lexer": "ipython3",
   "version": "3.6.9-final"
  },
  "mimetype": "text/x-python",
  "name": "python",
  "npconvert_exporter": "python",
  "pygments_lexer": "ipython3",
  "version": 3
 },
 "nbformat": 4,
 "nbformat_minor": 2
}